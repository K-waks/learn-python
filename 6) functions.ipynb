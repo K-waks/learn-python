{
 "cells": [
  {
   "attachments": {},
   "cell_type": "markdown",
   "id": "ba586f0c",
   "metadata": {},
   "source": [
    "## Functions"
   ]
  },
  {
   "attachments": {},
   "cell_type": "markdown",
   "id": "df1ff918",
   "metadata": {},
   "source": [
    "- Python already has builtin functions like `print()`."
   ]
  },
  {
   "cell_type": "code",
   "execution_count": 1,
   "id": "dd1cfd33",
   "metadata": {},
   "outputs": [
    {
     "name": "stdout",
     "output_type": "stream",
     "text": [
      "Hello, World!\n"
     ]
    }
   ],
   "source": [
    "print('Hello, World!')"
   ]
  },
  {
   "cell_type": "code",
   "execution_count": 21,
   "id": "beb2bc22",
   "metadata": {},
   "outputs": [
    {
     "name": "stdout",
     "output_type": "stream",
     "text": [
      "Hello, World!\n",
      "None\n"
     ]
    }
   ],
   "source": [
    "# Doesn't return any value\n",
    "print(print('Hello, World!'))"
   ]
  },
  {
   "attachments": {},
   "cell_type": "markdown",
   "id": "3c11da6c",
   "metadata": {},
   "source": [
    "### No parameters, and no return value"
   ]
  },
  {
   "cell_type": "code",
   "execution_count": 1,
   "id": "89a93404",
   "metadata": {},
   "outputs": [],
   "source": [
    "def func1():\n",
    "    print(\"I am a function\")"
   ]
  },
  {
   "attachments": {},
   "cell_type": "markdown",
   "id": "8f6f2efb",
   "metadata": {},
   "source": [
    "- Note that you have to **call the function** so that it executes."
   ]
  },
  {
   "cell_type": "code",
   "execution_count": 2,
   "id": "ee5ba434",
   "metadata": {},
   "outputs": [
    {
     "name": "stdout",
     "output_type": "stream",
     "text": [
      "I am a function\n"
     ]
    }
   ],
   "source": [
    "func1()"
   ]
  },
  {
   "attachments": {},
   "cell_type": "markdown",
   "id": "bac0f915",
   "metadata": {},
   "source": [
    "### Takes parameters, and no return value"
   ]
  },
  {
   "cell_type": "code",
   "execution_count": 4,
   "id": "a579825a",
   "metadata": {},
   "outputs": [],
   "source": [
    "def func2(para1, para2):\n",
    "    print(para1, para2)"
   ]
  },
  {
   "attachments": {},
   "cell_type": "markdown",
   "id": "0f9608c5",
   "metadata": {},
   "source": [
    "- When calling the function, remember to pass in it's **arguments**."
   ]
  },
  {
   "cell_type": "code",
   "execution_count": 5,
   "id": "b7ce731c",
   "metadata": {},
   "outputs": [
    {
     "name": "stdout",
     "output_type": "stream",
     "text": [
      "Hello World\n"
     ]
    }
   ],
   "source": [
    "func2(\"Hello\", \"World\")"
   ]
  },
  {
   "attachments": {},
   "cell_type": "markdown",
   "id": "98f090ff",
   "metadata": {},
   "source": [
    "### No parameters, but returns a value"
   ]
  },
  {
   "cell_type": "code",
   "execution_count": 7,
   "id": "b209a9aa",
   "metadata": {},
   "outputs": [
    {
     "data": {
      "text/plain": [
       "27"
      ]
     },
     "execution_count": 7,
     "metadata": {},
     "output_type": "execute_result"
    }
   ],
   "source": [
    "def cube_of_3():\n",
    "    # tri = 3 ** 3\n",
    "    # return tri\n",
    "\n",
    "    # alternatively instead of using a variable you can just return the result of the operation directly\n",
    "    return 3 ** 3\n",
    "\n",
    "cube_of_3()"
   ]
  },
  {
   "attachments": {},
   "cell_type": "markdown",
   "id": "227c168f",
   "metadata": {},
   "source": [
    "### Takes parameters, and returns a value"
   ]
  },
  {
   "cell_type": "code",
   "execution_count": 8,
   "id": "10536e65",
   "metadata": {},
   "outputs": [
    {
     "name": "stdout",
     "output_type": "stream",
     "text": [
      "We need to make a deposit\n"
     ]
    }
   ],
   "source": [
    "def withdraw_money(current_balance, amount):\n",
    "    if (current_balance >= amount):\n",
    "        current_balance -= amount\n",
    "        return current_balance\n",
    "\n",
    "balance = withdraw_money(100, 80)\n",
    "\n",
    "if (balance <= 50):\n",
    "    print(\"We need to make a deposit\")\n",
    "else:\n",
    "    print(\"Nothing to see here!\")"
   ]
  },
  {
   "attachments": {},
   "cell_type": "markdown",
   "id": "316a2d6b",
   "metadata": {},
   "source": [
    "### One that has a default value for an argument"
   ]
  },
  {
   "cell_type": "code",
   "execution_count": 13,
   "id": "db88a39f",
   "metadata": {},
   "outputs": [
    {
     "name": "stdout",
     "output_type": "stream",
     "text": [
      "Nothing to see here!\n"
     ]
    }
   ],
   "source": [
    "def withdraw_money(current_balance = 300, amount = 20):\n",
    "    if (current_balance >= amount):\n",
    "        current_balance -= amount\n",
    "        return current_balance\n",
    "\n",
    "# Note that you can also specify which argument to pass in\n",
    "balance = withdraw_money(amount = 200)\n",
    "\n",
    "if (balance <= 50):\n",
    "    print(\"We need to make a deposit\")\n",
    "else:\n",
    "    print(\"Nothing to see here!\")"
   ]
  },
  {
   "attachments": {},
   "cell_type": "markdown",
   "id": "7f3fadf2",
   "metadata": {},
   "source": [
    "### Function with variable number of argument"
   ]
  },
  {
   "cell_type": "code",
   "execution_count": 31,
   "id": "20f3c699",
   "metadata": {},
   "outputs": [
    {
     "name": "stdout",
     "output_type": "stream",
     "text": [
      "4\n"
     ]
    }
   ],
   "source": [
    "def found_duplicate(*args):\n",
    "    store = []\n",
    "    for i, fruit in enumerate(args[2]):\n",
    "        if fruit in store:\n",
    "            return i\n",
    "        else:\n",
    "            store.append(fruit)\n",
    "    return None\n",
    "\n",
    "fruits = [\"mango\", \"apple\", \"pear\", \"banana\", \"mango\", \"grapes\"]\n",
    "print(found_duplicate(4, \"hello\", fruits))\n"
   ]
  },
  {
   "attachments": {},
   "cell_type": "markdown",
   "id": "8a011328",
   "metadata": {},
   "source": [
    "## Global vs. Local Variables"
   ]
  },
  {
   "attachments": {},
   "cell_type": "markdown",
   "id": "6aa8332b",
   "metadata": {},
   "source": [
    "The variable `words` is doesn't get out of scope when `somefunc()` is called in the `main()` function"
   ]
  },
  {
   "cell_type": "code",
   "execution_count": 25,
   "id": "5cc6e3d0",
   "metadata": {},
   "outputs": [
    {
     "name": "stdout",
     "output_type": "stream",
     "text": [
      "['one', 'two', 'three', 'four', 'five']\n"
     ]
    }
   ],
   "source": [
    "def main():\n",
    "    somefunc()\n",
    "    print(words)\n",
    "\n",
    "def somefunc():\n",
    "    global words\n",
    "    words = [\"one\", \"two\", \"three\", \"four\", \"five\"]\n",
    "\n",
    "if __name__ == \"__main__\":\n",
    "    main()"
   ]
  },
  {
   "attachments": {},
   "cell_type": "markdown",
   "id": "6f70cac9",
   "metadata": {},
   "source": [
    "Here, however, the variable `numbers` gets out of scope when `somefunc2()` is called in the `main()` function"
   ]
  },
  {
   "cell_type": "code",
   "execution_count": 27,
   "id": "db206a93",
   "metadata": {},
   "outputs": [
    {
     "ename": "NameError",
     "evalue": "name 'numbers' is not defined",
     "output_type": "error",
     "traceback": [
      "\u001b[0;31m---------------------------------------------------------------------------\u001b[0m",
      "\u001b[0;31mNameError\u001b[0m                                 Traceback (most recent call last)",
      "Cell \u001b[0;32mIn[27], line 9\u001b[0m\n\u001b[1;32m      6\u001b[0m     numbers \u001b[39m=\u001b[39m [\u001b[39m1\u001b[39m, \u001b[39m2\u001b[39m, \u001b[39m3\u001b[39m, \u001b[39m4\u001b[39m, \u001b[39m5\u001b[39m]\n\u001b[1;32m      8\u001b[0m \u001b[39mif\u001b[39;00m \u001b[39m__name__\u001b[39m \u001b[39m==\u001b[39m \u001b[39m\"\u001b[39m\u001b[39m__main__\u001b[39m\u001b[39m\"\u001b[39m:\n\u001b[0;32m----> 9\u001b[0m     main()\n",
      "Cell \u001b[0;32mIn[27], line 3\u001b[0m, in \u001b[0;36mmain\u001b[0;34m()\u001b[0m\n\u001b[1;32m      1\u001b[0m \u001b[39mdef\u001b[39;00m \u001b[39mmain\u001b[39m():\n\u001b[1;32m      2\u001b[0m     somefunc2()\n\u001b[0;32m----> 3\u001b[0m     \u001b[39mprint\u001b[39m(numbers)\n",
      "\u001b[0;31mNameError\u001b[0m: name 'numbers' is not defined"
     ]
    }
   ],
   "source": [
    "def main():\n",
    "    somefunc2()\n",
    "    print(numbers)\n",
    "\n",
    "def somefunc2():\n",
    "    numbers = [1, 2, 3, 4, 5]\n",
    "\n",
    "if __name__ == \"__main__\":\n",
    "    main()"
   ]
  },
  {
   "cell_type": "code",
   "execution_count": null,
   "id": "97c9454b",
   "metadata": {},
   "outputs": [],
   "source": []
  }
 ],
 "metadata": {
  "kernelspec": {
   "display_name": "Python 3 (ipykernel)",
   "language": "python",
   "name": "python3"
  },
  "language_info": {
   "codemirror_mode": {
    "name": "ipython",
    "version": 3
   },
   "file_extension": ".py",
   "mimetype": "text/x-python",
   "name": "python",
   "nbconvert_exporter": "python",
   "pygments_lexer": "ipython3",
   "version": "3.10.6"
  }
 },
 "nbformat": 4,
 "nbformat_minor": 5
}
