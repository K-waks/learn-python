{
 "cells": [
  {
   "attachments": {},
   "cell_type": "markdown",
   "id": "30d9684d",
   "metadata": {},
   "source": [
    "## Arithmetic Operators "
   ]
  },
  {
   "cell_type": "code",
   "execution_count": 29,
   "id": "f4a9a1bc",
   "metadata": {},
   "outputs": [
    {
     "name": "stdout",
     "output_type": "stream",
     "text": [
      "1 + 1 = 2\n",
      "3 - 6 = -3\n",
      "4 * 5 = 20\n",
      "5 raised to 2 equals 25\n",
      "20 / 5 = 4.0\n",
      "20 / 6 = 3.3333333333333335\n",
      "20 % 6 = 2\n",
      "20 // 6 =  3\n"
     ]
    }
   ],
   "source": [
    "print(\"1 + 1 =\", 1 + 1)                # addition\n",
    "print(\"3 - 6 =\", 3 - 6)                # subtraction\n",
    "print(\"4 * 5 =\", 4 * 5)                # multiplication                    \n",
    "print(\"5 raised to 2 equals\", 5 ** 2)  # power / exponential\n",
    "print(\"20 / 5 =\", 20 / 5)              # division\n",
    "print(\"20 / 6 =\", 20 / 6)              # division always returns a float\n",
    "print(\"20 % 6 =\", 20 % 6)              # modulus / remainder\n",
    "print(\"20 // 6 = \", 20 // 6)           # double division (6 goes into 20 three times)"
   ]
  },
  {
   "attachments": {},
   "cell_type": "markdown",
   "id": "d161fedb",
   "metadata": {},
   "source": [
    "#### Arithmetic Operators with Strings "
   ]
  },
  {
   "attachments": {},
   "cell_type": "markdown",
   "id": "79c2599e",
   "metadata": {},
   "source": [
    "- Use `+` for concatenating strings."
   ]
  },
  {
   "cell_type": "code",
   "execution_count": 7,
   "id": "f63375d4",
   "metadata": {},
   "outputs": [
    {
     "data": {
      "text/plain": [
       "'string 1 string 2'"
      ]
     },
     "execution_count": 7,
     "metadata": {},
     "output_type": "execute_result"
    }
   ],
   "source": [
    "'string 1 ' + 'string 2'"
   ]
  },
  {
   "attachments": {},
   "cell_type": "markdown",
   "id": "ff080448",
   "metadata": {},
   "source": [
    "- Use `*` for duplicating strings according the the number of times specified, and concatenating them at the same time."
   ]
  },
  {
   "cell_type": "code",
   "execution_count": 8,
   "id": "825db314",
   "metadata": {},
   "outputs": [
    {
     "data": {
      "text/plain": [
       "'- string 1 - - string 1 - - string 1 - - string 1 - '"
      ]
     },
     "execution_count": 8,
     "metadata": {},
     "output_type": "execute_result"
    }
   ],
   "source": [
    "'- string 1 - ' * 4"
   ]
  },
  {
   "attachments": {},
   "cell_type": "markdown",
   "id": "dde6ef23",
   "metadata": {},
   "source": [
    "- Can't concatenate values of different data types using `+`"
   ]
  },
  {
   "cell_type": "code",
   "execution_count": 9,
   "id": "5f6b6a00",
   "metadata": {},
   "outputs": [
    {
     "ename": "TypeError",
     "evalue": "can only concatenate str (not \"int\") to str",
     "output_type": "error",
     "traceback": [
      "\u001b[0;31m---------------------------------------------------------------------------\u001b[0m",
      "\u001b[0;31mTypeError\u001b[0m                                 Traceback (most recent call last)",
      "Input \u001b[0;32mIn [9]\u001b[0m, in \u001b[0;36m<module>\u001b[0;34m\u001b[0m\n\u001b[0;32m----> 1\u001b[0m \u001b[38;5;124;43m'\u001b[39;49m\u001b[38;5;124;43m 1\u001b[39;49m\u001b[38;5;124;43m'\u001b[39;49m\u001b[43m \u001b[49m\u001b[38;5;241;43m+\u001b[39;49m\u001b[43m \u001b[49m\u001b[38;5;241;43m4\u001b[39;49m\n",
      "\u001b[0;31mTypeError\u001b[0m: can only concatenate str (not \"int\") to str"
     ]
    }
   ],
   "source": [
    "' 1' + 4"
   ]
  },
  {
   "attachments": {},
   "cell_type": "markdown",
   "id": "4e3ded13",
   "metadata": {},
   "source": [
    "#### Arithmetic Operators with Lists"
   ]
  },
  {
   "attachments": {},
   "cell_type": "markdown",
   "id": "4018ad8e",
   "metadata": {},
   "source": [
    "- Use `+` to concatenate lists."
   ]
  },
  {
   "cell_type": "code",
   "execution_count": 34,
   "id": "8ab71707",
   "metadata": {},
   "outputs": [
    {
     "data": {
      "text/plain": [
       "[1, 2, 3, 4, 5, 6]"
      ]
     },
     "execution_count": 34,
     "metadata": {},
     "output_type": "execute_result"
    }
   ],
   "source": [
    "my_list = [1,2,3]\n",
    "other_list = [4,5,6]\n",
    "\n",
    "new_list = my_list + other_list\n",
    "new_list"
   ]
  },
  {
   "attachments": {},
   "cell_type": "markdown",
   "id": "4ad951d0",
   "metadata": {},
   "source": [
    "- Use `*` to duplicate and concatenate"
   ]
  },
  {
   "cell_type": "code",
   "execution_count": 35,
   "id": "76138f9d",
   "metadata": {},
   "outputs": [
    {
     "data": {
      "text/plain": [
       "[1, 2, 3, 1, 2, 3, 1, 2, 3]"
      ]
     },
     "execution_count": 35,
     "metadata": {},
     "output_type": "execute_result"
    }
   ],
   "source": [
    "new_list = my_list * 3\n",
    "new_list"
   ]
  },
  {
   "attachments": {},
   "cell_type": "markdown",
   "id": "5508c805",
   "metadata": {},
   "source": [
    "## Relational / Comparison Operators"
   ]
  },
  {
   "cell_type": "code",
   "execution_count": 39,
   "id": "3f56da71",
   "metadata": {},
   "outputs": [
    {
     "name": "stdout",
     "output_type": "stream",
     "text": [
      "3 == 3: True\n",
      "3 != 3: False\n",
      "4 < 5: True\n",
      "4 > 5: False\n",
      "4 <= 5: True\n",
      "4 >= 5: False\n"
     ]
    }
   ],
   "source": [
    "# Comparison operators\n",
    "print(f\"3 == 3: {3 == 3}\")\n",
    "print(f\"3 != 3: {3 != 3}\")\n",
    "print(f\"4 < 5: {4 < 5}\") \n",
    "print(f\"4 > 5: {4 > 5}\") \n",
    "print(f\"4 <= 5: {4 <= 5}\") \n",
    "print(f\"4 >= 5: {4 >= 5}\") "
   ]
  },
  {
   "attachments": {},
   "cell_type": "markdown",
   "id": "ff116fb7",
   "metadata": {},
   "source": [
    "## Boolean / Logical Operators"
   ]
  },
  {
   "attachments": {},
   "cell_type": "markdown",
   "id": "81123eb2",
   "metadata": {},
   "source": [
    "#### Logical Operators `and`, `or`, `not`"
   ]
  },
  {
   "cell_type": "code",
   "execution_count": 36,
   "id": "edae2069",
   "metadata": {},
   "outputs": [
    {
     "name": "stdout",
     "output_type": "stream",
     "text": [
      "True and True: True\n",
      "True and False: False\n",
      "True or False: True\n",
      "False or False: False\n",
      "not True: False\n",
      "not False: True\n"
     ]
    }
   ],
   "source": [
    "print(f\"True and True: {True and True}\")\n",
    "print(f\"True and False: {True and False}\")\n",
    "print(f\"True or False: {True or False}\")\n",
    "print(f\"False or False: {False or False}\")\n",
    "print(f\"not True: {not True}\")\n",
    "print(f\"not False: {not False}\")"
   ]
  },
  {
   "attachments": {},
   "cell_type": "markdown",
   "id": "611c6472",
   "metadata": {},
   "source": [
    "#### *Value in set* Operators `is` and `is not`"
   ]
  },
  {
   "cell_type": "code",
   "execution_count": 32,
   "id": "6b788e98",
   "metadata": {},
   "outputs": [
    {
     "name": "stdout",
     "output_type": "stream",
     "text": [
      "Correct\n",
      "Duh!\n"
     ]
    }
   ],
   "source": [
    "x = 3\n",
    "y = 4\n",
    "\n",
    "if x is y:\n",
    "    print(\"Wrong\")\n",
    "else:\n",
    "    print(\"Correct\")\n",
    "\n",
    "if x is not y:\n",
    "    print(\"Duh!\")\n",
    "else:\n",
    "    print(\"serously?\")"
   ]
  },
  {
   "attachments": {},
   "cell_type": "markdown",
   "id": "70fa4623",
   "metadata": {},
   "source": [
    "#### Membership Operators `in` and `not in`"
   ]
  },
  {
   "cell_type": "code",
   "execution_count": 38,
   "id": "d7fcbe12",
   "metadata": {},
   "outputs": [
    {
     "name": "stdout",
     "output_type": "stream",
     "text": [
      "1 in [1,2,3,4,5]: True\n",
      "10 not in [1,2,3,4,5]: True\n"
     ]
    }
   ],
   "source": [
    "x = [1,2,3,4,5]\n",
    "print(f\"1 in [1,2,3,4,5]: {1 in x}\")\n",
    "print(f\"10 not in [1,2,3,4,5]: {10 not in x}\")"
   ]
  },
  {
   "cell_type": "code",
   "execution_count": 26,
   "id": "e032e25c",
   "metadata": {},
   "outputs": [
    {
     "data": {
      "text/plain": [
       "False"
      ]
     },
     "execution_count": 26,
     "metadata": {},
     "output_type": "execute_result"
    }
   ],
   "source": [
    "'cat' not in 'my pet cat'"
   ]
  },
  {
   "attachments": {},
   "cell_type": "markdown",
   "id": "6c3b9c92",
   "metadata": {},
   "source": [
    "## Bitwise Operators"
   ]
  },
  {
   "cell_type": "code",
   "execution_count": null,
   "id": "964916a8",
   "metadata": {},
   "outputs": [],
   "source": []
  },
  {
   "cell_type": "markdown",
   "id": "094a8e97",
   "metadata": {},
   "source": [
    "## Operator Precedence"
   ]
  },
  {
   "attachments": {},
   "cell_type": "markdown",
   "id": "bcf7a186",
   "metadata": {},
   "source": [
    "- Always a good idea to **use parenthesis** to denote order of execution "
   ]
  },
  {
   "cell_type": "markdown",
   "id": "ce16d0fd",
   "metadata": {},
   "source": []
  }
 ],
 "metadata": {
  "kernelspec": {
   "display_name": "Python 3 (ipykernel)",
   "language": "python",
   "name": "python3"
  },
  "language_info": {
   "codemirror_mode": {
    "name": "ipython",
    "version": 3
   },
   "file_extension": ".py",
   "mimetype": "text/x-python",
   "name": "python",
   "nbconvert_exporter": "python",
   "pygments_lexer": "ipython3",
   "version": "3.10.6"
  }
 },
 "nbformat": 4,
 "nbformat_minor": 5
}
