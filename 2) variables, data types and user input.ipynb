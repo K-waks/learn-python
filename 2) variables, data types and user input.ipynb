{
 "cells": [
  {
   "attachments": {},
   "cell_type": "markdown",
   "id": "7fc86db2",
   "metadata": {},
   "source": [
    "## Keywords"
   ]
  },
  {
   "attachments": {},
   "cell_type": "markdown",
   "id": "433249c6",
   "metadata": {},
   "source": [
    "- Remember variables names -\n",
    "    1. should not start with numbers or symbols (except underscore)\n",
    "    2. should not contain spaces\n",
    "    3. are case-sensitive\n",
    "    4. should not be **keywords**"
   ]
  },
  {
   "attachments": {},
   "cell_type": "markdown",
   "id": "b48c3e04",
   "metadata": {},
   "source": [
    "- To see the list of keyword in Python see the following code snippet."
   ]
  },
  {
   "cell_type": "code",
   "execution_count": 1,
   "id": "65d2a690",
   "metadata": {},
   "outputs": [
    {
     "name": "stdout",
     "output_type": "stream",
     "text": [
      "['False', 'None', 'True', 'and', 'as', 'assert', 'async', 'await', 'break', 'class', 'continue', 'def', 'del', 'elif', 'else', 'except', 'finally', 'for', 'from', 'global', 'if', 'import', 'in', 'is', 'lambda', 'nonlocal', 'not', 'or', 'pass', 'raise', 'return', 'try', 'while', 'with', 'yield']\n"
     ]
    }
   ],
   "source": [
    "import keyword\n",
    "\n",
    "print(keyword.kwlist)"
   ]
  },
  {
   "attachments": {},
   "cell_type": "markdown",
   "id": "62f373f2",
   "metadata": {},
   "source": [
    "## Defining a Variable and initializing it"
   ]
  },
  {
   "cell_type": "code",
   "execution_count": 1,
   "id": "c625d1e8",
   "metadata": {},
   "outputs": [
    {
     "name": "stdout",
     "output_type": "stream",
     "text": [
      "Hiii 👋\n"
     ]
    }
   ],
   "source": [
    "x = \"Hiii 👋\"\n",
    "print(x)"
   ]
  },
  {
   "cell_type": "code",
   "execution_count": 2,
   "id": "396bd3c1",
   "metadata": {},
   "outputs": [
    {
     "data": {
      "text/plain": [
       "'Hiii 👋'"
      ]
     },
     "execution_count": 2,
     "metadata": {},
     "output_type": "execute_result"
    }
   ],
   "source": [
    "x"
   ]
  },
  {
   "attachments": {},
   "cell_type": "markdown",
   "id": "5042e3fd",
   "metadata": {},
   "source": [
    "## Re-declaring a variable also works unlike in C/C++"
   ]
  },
  {
   "cell_type": "code",
   "execution_count": 4,
   "id": "d188fc7a",
   "metadata": {},
   "outputs": [
    {
     "name": "stdout",
     "output_type": "stream",
     "text": [
      "5\n"
     ]
    },
    {
     "data": {
      "text/plain": [
       "5"
      ]
     },
     "execution_count": 4,
     "metadata": {},
     "output_type": "execute_result"
    }
   ],
   "source": [
    "x = 5\n",
    "print(x)\n",
    "x"
   ]
  },
  {
   "attachments": {},
   "cell_type": "markdown",
   "id": "4db68ecf",
   "metadata": {},
   "source": [
    "## Types and Values"
   ]
  },
  {
   "cell_type": "code",
   "execution_count": 5,
   "id": "93eb141d",
   "metadata": {},
   "outputs": [],
   "source": [
    "l = 7\n",
    "m = 7.0\n",
    "n = 7j\n",
    "o = \"Hello\"\n",
    "p = True\n",
    "q = False\n",
    "r = None"
   ]
  },
  {
   "attachments": {},
   "cell_type": "markdown",
   "id": "30797deb",
   "metadata": {},
   "source": [
    "- Integer"
   ]
  },
  {
   "cell_type": "code",
   "execution_count": 6,
   "id": "6e3bea08",
   "metadata": {},
   "outputs": [
    {
     "name": "stdout",
     "output_type": "stream",
     "text": [
      "7\n",
      "<class 'int'>\n",
      "l is an integer\n"
     ]
    }
   ],
   "source": [
    "print(l)\n",
    "print(type(l))\n",
    "\n",
    "if isinstance(l, int):\n",
    "    print(\"l is an integer\")\n",
    "else:\n",
    "    print(\"l is not an integer\")"
   ]
  },
  {
   "attachments": {},
   "cell_type": "markdown",
   "id": "4e56a7aa",
   "metadata": {},
   "source": [
    "- Float"
   ]
  },
  {
   "cell_type": "code",
   "execution_count": 7,
   "id": "cc5133a7",
   "metadata": {},
   "outputs": [
    {
     "name": "stdout",
     "output_type": "stream",
     "text": [
      "7.0\n",
      "<class 'float'>\n",
      "m is a float\n"
     ]
    }
   ],
   "source": [
    "print(m)\n",
    "print(type(m))\n",
    "\n",
    "if isinstance(m, float):\n",
    "    print(\"m is a float\")\n",
    "else:\n",
    "    print(\"m is not an float\")"
   ]
  },
  {
   "attachments": {},
   "cell_type": "markdown",
   "id": "d01cd8f7",
   "metadata": {},
   "source": [
    "- Complex"
   ]
  },
  {
   "cell_type": "code",
   "execution_count": 8,
   "id": "eedaa30e",
   "metadata": {},
   "outputs": [
    {
     "name": "stdout",
     "output_type": "stream",
     "text": [
      "7j\n"
     ]
    },
    {
     "data": {
      "text/plain": [
       "complex"
      ]
     },
     "execution_count": 8,
     "metadata": {},
     "output_type": "execute_result"
    }
   ],
   "source": [
    "print(n)\n",
    "type(n)"
   ]
  },
  {
   "attachments": {},
   "cell_type": "markdown",
   "id": "83339bd4",
   "metadata": {},
   "source": [
    "- String"
   ]
  },
  {
   "cell_type": "code",
   "execution_count": 9,
   "id": "d3d2d7b9",
   "metadata": {},
   "outputs": [
    {
     "name": "stdout",
     "output_type": "stream",
     "text": [
      "Hello\n"
     ]
    },
    {
     "data": {
      "text/plain": [
       "str"
      ]
     },
     "execution_count": 9,
     "metadata": {},
     "output_type": "execute_result"
    }
   ],
   "source": [
    "print(o)\n",
    "type(o)"
   ]
  },
  {
   "attachments": {},
   "cell_type": "markdown",
   "id": "62d2ad9f",
   "metadata": {},
   "source": [
    "- Boolean"
   ]
  },
  {
   "cell_type": "code",
   "execution_count": 10,
   "id": "1972a9c3",
   "metadata": {},
   "outputs": [
    {
     "name": "stdout",
     "output_type": "stream",
     "text": [
      "True\n"
     ]
    },
    {
     "data": {
      "text/plain": [
       "bool"
      ]
     },
     "execution_count": 10,
     "metadata": {},
     "output_type": "execute_result"
    }
   ],
   "source": [
    "print(p)\n",
    "type(p)"
   ]
  },
  {
   "cell_type": "code",
   "execution_count": 11,
   "id": "b76eb606",
   "metadata": {},
   "outputs": [
    {
     "name": "stdout",
     "output_type": "stream",
     "text": [
      "False\n"
     ]
    },
    {
     "data": {
      "text/plain": [
       "bool"
      ]
     },
     "execution_count": 11,
     "metadata": {},
     "output_type": "execute_result"
    }
   ],
   "source": [
    "print(q)\n",
    "type(q)"
   ]
  },
  {
   "attachments": {},
   "cell_type": "markdown",
   "id": "6f4633ff",
   "metadata": {},
   "source": [
    "- None/null"
   ]
  },
  {
   "cell_type": "code",
   "execution_count": 12,
   "id": "5a3fa70b",
   "metadata": {},
   "outputs": [
    {
     "name": "stdout",
     "output_type": "stream",
     "text": [
      "None\n"
     ]
    },
    {
     "data": {
      "text/plain": [
       "NoneType"
      ]
     },
     "execution_count": 12,
     "metadata": {},
     "output_type": "execute_result"
    }
   ],
   "source": [
    "print(r)\n",
    "type(r)"
   ]
  },
  {
   "attachments": {},
   "cell_type": "markdown",
   "id": "0987cc54",
   "metadata": {},
   "source": [
    "- `type()` is a built-in function that prints the type of a value/variable.\n",
    "- Python uses a form of dynamic typing, sometimes called **duck typing**, where the type of a value is determined by the value itself. In other words, if it walks like a duck, it's a duck."
   ]
  },
  {
   "attachments": {},
   "cell_type": "markdown",
   "id": "e5ae30d3",
   "metadata": {},
   "source": [
    "## Using `input()` to get user input"
   ]
  },
  {
   "cell_type": "code",
   "execution_count": 4,
   "id": "9be7cb0b",
   "metadata": {},
   "outputs": [
    {
     "name": "stdout",
     "output_type": "stream",
     "text": [
      "Kevin\n"
     ]
    },
    {
     "data": {
      "text/plain": [
       "str"
      ]
     },
     "execution_count": 4,
     "metadata": {},
     "output_type": "execute_result"
    }
   ],
   "source": [
    "name = input(\"What's your name?\")\n",
    "print(name)\n",
    "type(name)"
   ]
  },
  {
   "attachments": {},
   "cell_type": "markdown",
   "id": "9c6035d2",
   "metadata": {},
   "source": [
    "- Typecast to an `int` in order to get integer input, or a `float()` if you want decimals, etcetera."
   ]
  },
  {
   "cell_type": "code",
   "execution_count": 5,
   "id": "20781134",
   "metadata": {},
   "outputs": [
    {
     "name": "stdout",
     "output_type": "stream",
     "text": [
      "5\n"
     ]
    },
    {
     "data": {
      "text/plain": [
       "int"
      ]
     },
     "execution_count": 5,
     "metadata": {},
     "output_type": "execute_result"
    }
   ],
   "source": [
    "num = int(input(\"What your favorite number\"))\n",
    "print(num)\n",
    "type(num)"
   ]
  },
  {
   "attachments": {},
   "cell_type": "markdown",
   "id": "b264a0f8",
   "metadata": {},
   "source": [
    "## The String Type"
   ]
  },
  {
   "attachments": {},
   "cell_type": "markdown",
   "id": "46cd9e6c",
   "metadata": {},
   "source": [
    "- In python3, all types are classes, even the built in types. This is mostly transparent so you won't notice that much.\n",
    "- In strings you'll need to know this.\n",
    "- Use double or single quotes."
   ]
  },
  {
   "attachments": {},
   "cell_type": "markdown",
   "id": "07422a0f",
   "metadata": {},
   "source": [
    "- The use of three quotation marks allows for **multiline strings**"
   ]
  },
  {
   "cell_type": "code",
   "execution_count": 13,
   "id": "933b18fb",
   "metadata": {},
   "outputs": [
    {
     "name": "stdout",
     "output_type": "stream",
     "text": [
      "Who do I look up to?\n",
      "\n",
      "Jesus Christ.\n",
      "\n",
      "my best friend!\n"
     ]
    }
   ],
   "source": [
    "m = \"\"\"Who do I look up to?\n",
    "\n",
    "Jesus Christ.\n",
    "\n",
    "my best friend!\"\"\"\n",
    "\n",
    "print(m)"
   ]
  },
  {
   "attachments": {},
   "cell_type": "markdown",
   "id": "9c6e7763",
   "metadata": {},
   "source": [
    "- Stings are objects, even literal strings"
   ]
  },
  {
   "cell_type": "code",
   "execution_count": 14,
   "id": "d1b4c4a9",
   "metadata": {},
   "outputs": [
    {
     "name": "stdout",
     "output_type": "stream",
     "text": [
      "SEVEN\n",
      "seven\n",
      "Seven\n"
     ]
    }
   ],
   "source": [
    "x = 'seven'.upper()\n",
    "y = x.lower()\n",
    "z = y.capitalize()\n",
    "\n",
    "print(x)\n",
    "print(y)\n",
    "print(z)"
   ]
  },
  {
   "cell_type": "code",
   "execution_count": 15,
   "id": "82c29e93",
   "metadata": {},
   "outputs": [
    {
     "name": "stdout",
     "output_type": "stream",
     "text": [
      "seven 8\n",
      "seven 8 9\n",
      "seven 9 8\n",
      "seven 9                 8\n",
      "seven 800000000 000000009\n"
     ]
    }
   ],
   "source": [
    "#  using a format specifier\n",
    "print('%s %d' % (\"seven\", 8))\n",
    "\n",
    "# using the format function()\n",
    "print(\"seven {} {}\".format(8,9))\n",
    "print(\"seven {1} {0}\".format(8,9))\n",
    "print(\"seven {1:<9} {0:>9}\".format(8,9))\n",
    "\n",
    "# other way\n",
    "p = f\"seven {8:<09} {9:>09}\"\n",
    "print(p)"
   ]
  },
  {
   "attachments": {},
   "cell_type": "markdown",
   "id": "ce9bf407",
   "metadata": {},
   "source": [
    "- You can also concatenate strings"
   ]
  },
  {
   "cell_type": "code",
   "execution_count": 16,
   "id": "640e51e9",
   "metadata": {},
   "outputs": [
    {
     "name": "stdout",
     "output_type": "stream",
     "text": [
      "String 1123\n",
      "String 1123\n"
     ]
    }
   ],
   "source": [
    "print(\"String 1\" + \"123\")\n",
    "print(\"String 1\" + str(123))\n",
    "\n",
    "# This doesn't work since you're trying to concatenate a string and an integer\n",
    "\n",
    "# print(\"string 1\" + 123)"
   ]
  },
  {
   "attachments": {},
   "cell_type": "markdown",
   "id": "f0d7cbb8",
   "metadata": {},
   "source": [
    "## Numeric Types"
   ]
  },
  {
   "attachments": {},
   "cell_type": "markdown",
   "id": "7edee375",
   "metadata": {},
   "source": [
    "int, float, complex"
   ]
  },
  {
   "attachments": {},
   "cell_type": "markdown",
   "id": "7a4362a8",
   "metadata": {},
   "source": [
    "- Notice the different results and their types when multiplication and division operations are done."
   ]
  },
  {
   "cell_type": "code",
   "execution_count": 17,
   "id": "08e02ef4",
   "metadata": {},
   "outputs": [
    {
     "name": "stdout",
     "output_type": "stream",
     "text": [
      "m is 7 and of type <class 'int'>\n",
      "n is 7.0 and of type <class 'float'>\n",
      "o is 21 and of type <class 'int'>\n",
      "p is 21.8701 and of type <class 'float'>\n",
      "q is 2.0 and of type <class 'float'>\n",
      "r is 2.3333333333333335 and of type <class 'float'>\n",
      "s is (-1+0j) and of type <class 'complex'>\n"
     ]
    }
   ],
   "source": [
    "m = 7\n",
    "n = 7.0\n",
    "o = 7 * 3\n",
    "p = 7 * 3.1243\n",
    "q = 6 / 3\n",
    "r = 7 / 3\n",
    "s = 1j * 1j\n",
    "\n",
    "print(f\"m is {m} and of type {type(m)}\")\n",
    "print(f\"n is {n} and of type {type(n)}\")\n",
    "print(f\"o is {o} and of type {type(o)}\")\n",
    "print(f\"p is {p} and of type {type(p)}\")\n",
    "print(f\"q is {q} and of type {type(q)}\")\n",
    "print(f\"r is {r} and of type {type(r)}\")\n",
    "print(f\"s is {s} and of type {type(s)}\")\n"
   ]
  },
  {
   "attachments": {},
   "cell_type": "markdown",
   "id": "e6366c8e",
   "metadata": {},
   "source": [
    "- Computers sacrifice accuracy (correct/desired output) over precision (doing the calculation precisely according to how it has been written)"
   ]
  },
  {
   "cell_type": "code",
   "execution_count": 18,
   "id": "73854b38",
   "metadata": {},
   "outputs": [
    {
     "name": "stdout",
     "output_type": "stream",
     "text": [
      "5.551115123125783e-17\n"
     ]
    }
   ],
   "source": [
    "x = (0.1 + 0.1 + 0.1) - 0.3\n",
    "print(x)"
   ]
  },
  {
   "attachments": {},
   "cell_type": "markdown",
   "id": "1ab4e30c",
   "metadata": {},
   "source": [
    "- When working with money or in appropriate situations, import from `decimal`."
   ]
  },
  {
   "cell_type": "code",
   "execution_count": 19,
   "id": "5bd0b5c4",
   "metadata": {},
   "outputs": [
    {
     "name": "stdout",
     "output_type": "stream",
     "text": [
      "0.00\n"
     ]
    },
    {
     "data": {
      "text/plain": [
       "decimal.Decimal"
      ]
     },
     "execution_count": 19,
     "metadata": {},
     "output_type": "execute_result"
    }
   ],
   "source": [
    "from decimal import *\n",
    "\n",
    "a = Decimal('.10')\n",
    "b = Decimal('.30')\n",
    "x = a + a + a - b\n",
    "\n",
    "print(x)\n",
    "type(x)   # Decimal class from the decimal library"
   ]
  },
  {
   "attachments": {},
   "cell_type": "markdown",
   "id": "3510ddf4",
   "metadata": {},
   "source": [
    "## Bool type and NoneType"
   ]
  },
  {
   "attachments": {},
   "cell_type": "markdown",
   "id": "0fa3f40f",
   "metadata": {},
   "source": [
    "- Note that relational/comparison operators evaluate to Bools."
   ]
  },
  {
   "cell_type": "code",
   "execution_count": 20,
   "id": "c6178829",
   "metadata": {},
   "outputs": [
    {
     "name": "stdout",
     "output_type": "stream",
     "text": [
      "True\n",
      "False\n",
      "True\n",
      "False\n",
      "True\n",
      "None\n"
     ]
    }
   ],
   "source": [
    "m = True\n",
    "n = False\n",
    "o = 7 > 5\n",
    "p = 7 < 5\n",
    "q = 7 <= 7\n",
    "r = None\n",
    "\n",
    "print(m)\n",
    "print(n)\n",
    "print(o)\n",
    "print(p)\n",
    "print(q)\n",
    "print(r)"
   ]
  },
  {
   "cell_type": "code",
   "execution_count": 21,
   "id": "77a62a39",
   "metadata": {},
   "outputs": [
    {
     "data": {
      "text/plain": [
       "True"
      ]
     },
     "execution_count": 21,
     "metadata": {},
     "output_type": "execute_result"
    }
   ],
   "source": [
    "1 == 1"
   ]
  },
  {
   "cell_type": "code",
   "execution_count": 22,
   "id": "bee60df2",
   "metadata": {},
   "outputs": [
    {
     "data": {
      "text/plain": [
       "False"
      ]
     },
     "execution_count": 22,
     "metadata": {},
     "output_type": "execute_result"
    }
   ],
   "source": [
    "1 == 2"
   ]
  },
  {
   "attachments": {},
   "cell_type": "markdown",
   "id": "5aa1b274",
   "metadata": {},
   "source": [
    "## Sequence Types"
   ]
  },
  {
   "attachments": {},
   "cell_type": "markdown",
   "id": "3dd7ba8e",
   "metadata": {},
   "source": [
    "- Built in sequence types - `list`, `tuple`, `set`, `dictionary`.\n",
    "- We also have `range`\n",
    "- Discussed more in another notebook"
   ]
  },
  {
   "cell_type": "code",
   "execution_count": 23,
   "id": "95b29f09",
   "metadata": {},
   "outputs": [
    {
     "name": "stdout",
     "output_type": "stream",
     "text": [
      "[0, 1, 2, 3, 4]\n",
      "<class 'list'>\n",
      "\n",
      "(0, 1, 2, 3, 4)\n",
      "<class 'tuple'>\n",
      "\n",
      "{0, 1, 2, 3, 4}\n",
      "<class 'set'>\n",
      "\n",
      "{'zero': 0, 'one': 1, 'two': 2, 'three': 3, 'four': 4}\n",
      "<class 'dict'>\n",
      "\n",
      "range(0, 5)\n",
      "<class 'range'>\n"
     ]
    }
   ],
   "source": [
    "m = [0, 1, 2, 3, 4]\n",
    "n = (0, 1, 2, 3, 4)\n",
    "o = {0, 1, 2, 3, 4}\n",
    "p = {\"zero\": 0, \"one\": 1, \"two\": 2, \"three\": 3, \"four\":4}\n",
    "q = range(5)\n",
    "\n",
    "print(m)\n",
    "print(type(m))\n",
    "print()\n",
    "\n",
    "print(n)\n",
    "print(type(n))\n",
    "print()\n",
    "\n",
    "print(o)\n",
    "print(type(o))\n",
    "print()\n",
    "\n",
    "print(p)\n",
    "print(type(p))\n",
    "print()\n",
    "\n",
    "print(q)\n",
    "print(type(q))"
   ]
  },
  {
   "attachments": {},
   "cell_type": "markdown",
   "id": "a8f69df5",
   "metadata": {},
   "source": [
    "# `type()` and `id()`"
   ]
  },
  {
   "cell_type": "code",
   "execution_count": 24,
   "id": "af84e61f",
   "metadata": {},
   "outputs": [],
   "source": [
    "x = (1, 'two', 3.0, [4, 'four'], 5)\n",
    "y = (1, 'two', 3.0, [4, 'four'], 5)"
   ]
  },
  {
   "cell_type": "code",
   "execution_count": 25,
   "id": "1485c330",
   "metadata": {},
   "outputs": [
    {
     "name": "stdout",
     "output_type": "stream",
     "text": [
      "<class 'tuple'>\n",
      "<class 'tuple'>\n"
     ]
    }
   ],
   "source": [
    "print(type(x))\n",
    "print(type(y))"
   ]
  },
  {
   "cell_type": "code",
   "execution_count": 26,
   "id": "7fa1170a",
   "metadata": {},
   "outputs": [
    {
     "name": "stdout",
     "output_type": "stream",
     "text": [
      "<class 'int'>\n",
      "<class 'int'>\n"
     ]
    }
   ],
   "source": [
    "print(type(x[0]))\n",
    "print(type(y[0]))"
   ]
  },
  {
   "attachments": {},
   "cell_type": "markdown",
   "id": "7065536b",
   "metadata": {},
   "source": [
    "- Though the tuples `x` and `y` have the same values, they are two different objects as shown by the code snippet below."
   ]
  },
  {
   "cell_type": "code",
   "execution_count": 27,
   "id": "08672cf7",
   "metadata": {},
   "outputs": [
    {
     "name": "stdout",
     "output_type": "stream",
     "text": [
      "139917760157056\n",
      "139917760158496\n",
      "nope\n"
     ]
    }
   ],
   "source": [
    "print(id(x))\n",
    "print(id(y))\n",
    "\n",
    "if x is y:\n",
    "    print(\"yep\")\n",
    "else:\n",
    "    print(\"nope\")"
   ]
  },
  {
   "attachments": {},
   "cell_type": "markdown",
   "id": "29ca561a",
   "metadata": {},
   "source": [
    "- However, there's only one `'1'` object so the first item - which is `1` - in both tuples have the same id - are one and the same object, as shown below."
   ]
  },
  {
   "cell_type": "code",
   "execution_count": 28,
   "id": "3a48a2e3",
   "metadata": {},
   "outputs": [
    {
     "name": "stdout",
     "output_type": "stream",
     "text": [
      "139917851721968\n",
      "139917851721968\n",
      "yep\n"
     ]
    }
   ],
   "source": [
    "print(id(x[0]))\n",
    "print(id(y[0]))\n",
    "\n",
    "if x[0] is y[0]:\n",
    "    print(\"yep\")\n",
    "else:\n",
    "    print(\"nope\")"
   ]
  }
 ],
 "metadata": {
  "kernelspec": {
   "display_name": "Python 3 (ipykernel)",
   "language": "python",
   "name": "python3"
  },
  "language_info": {
   "codemirror_mode": {
    "name": "ipython",
    "version": 3
   },
   "file_extension": ".py",
   "mimetype": "text/x-python",
   "name": "python",
   "nbconvert_exporter": "python",
   "pygments_lexer": "ipython3",
   "version": "3.10.6"
  }
 },
 "nbformat": 4,
 "nbformat_minor": 5
}
