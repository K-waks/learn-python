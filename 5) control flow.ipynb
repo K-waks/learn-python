{
 "cells": [
  {
   "attachments": {},
   "cell_type": "markdown",
   "id": "2a65107b",
   "metadata": {},
   "source": [
    "## If / Elif / Else statements"
   ]
  },
  {
   "cell_type": "code",
   "execution_count": 5,
   "id": "03d16962",
   "metadata": {},
   "outputs": [
    {
     "name": "stdout",
     "output_type": "stream",
     "text": [
      "It is true!\n",
      "Also print this\n",
      "Always print this\n"
     ]
    }
   ],
   "source": [
    "a = True\n",
    "if a:\n",
    "    print('It is true!')\n",
    "else:\n",
    "    print('It is false!')\n",
    "\n",
    "print('Always print this') # not part of the block"
   ]
  },
  {
   "cell_type": "code",
   "execution_count": 10,
   "id": "c250abc7",
   "metadata": {},
   "outputs": [
    {
     "name": "stdout",
     "output_type": "stream",
     "text": [
      "a is true!\n",
      "b is also true\n",
      "Always print this\n"
     ]
    }
   ],
   "source": [
    "a = True\n",
    "b = True\n",
    "c = False\n",
    "if a:\n",
    "    print('a is true!')\n",
    "    if b:\n",
    "        print('b is also true')\n",
    "        if c:\n",
    "            print('All three are true')\n",
    "elif not a:\n",
    "    print(\"a is false\")\n",
    "else:\n",
    "    print(\"Sth bizarre! If a is neither true nor false, then what could it be!🤯\")\n",
    "\n",
    "print('Always print this')"
   ]
  },
  {
   "attachments": {},
   "cell_type": "markdown",
   "id": "42d9f931",
   "metadata": {},
   "source": [
    "- Conditional statements let you use  *\"`a` if Condition else `b`\"* "
   ]
  },
  {
   "cell_type": "code",
   "execution_count": 4,
   "id": "1a306b55",
   "metadata": {},
   "outputs": [
    {
     "name": "stdout",
     "output_type": "stream",
     "text": [
      "x is less than y\n"
     ]
    }
   ],
   "source": [
    "x = 4\n",
    "y = 5\n",
    "\n",
    "st = \"x is less than y\" if (x < y) else \"x is greater than or equal to y\"\n",
    "print(st)"
   ]
  },
  {
   "attachments": {},
   "cell_type": "markdown",
   "id": "ecc930e8",
   "metadata": {},
   "source": [
    "## For loops"
   ]
  },
  {
   "attachments": {},
   "cell_type": "markdown",
   "id": "cc493878",
   "metadata": {},
   "source": [
    "- Use a `for` loop over a collection - lists, tuples etc."
   ]
  },
  {
   "cell_type": "code",
   "execution_count": 17,
   "id": "8b49fa67",
   "metadata": {},
   "outputs": [
    {
     "name": "stdout",
     "output_type": "stream",
     "text": [
      "5\n",
      "6\n",
      "7\n",
      "8\n",
      "9\n"
     ]
    },
    {
     "data": {
      "text/plain": [
       "True"
      ]
     },
     "execution_count": 17,
     "metadata": {},
     "output_type": "execute_result"
    }
   ],
   "source": [
    "a = range(5, 10)\n",
    "for number in a:\n",
    "    print(number)\n",
    "\n",
    "7 in a"
   ]
  },
  {
   "attachments": {},
   "cell_type": "markdown",
   "id": "94eb8eba",
   "metadata": {},
   "source": [
    "- Use the `break` keyword to get out of a loop prematurely."
   ]
  },
  {
   "cell_type": "code",
   "execution_count": 21,
   "id": "55d76100",
   "metadata": {},
   "outputs": [
    {
     "name": "stdout",
     "output_type": "stream",
     "text": [
      "Sun\n",
      "Mon\n",
      "Tue\n",
      "Wed\n",
      "\n",
      "I'm past the for loop\n"
     ]
    }
   ],
   "source": [
    "week = [\"Sun\", \"Mon\", \"Tue\", \"Wed\", \"Thur\", \"Fri\", \"Sat\"]\n",
    "for day in week:\n",
    "    if day == \"Thur\":\n",
    "        break\n",
    "    print(day)\n",
    "\n",
    "print(\"\\nI'm past the for loop\")"
   ]
  },
  {
   "attachments": {},
   "cell_type": "markdown",
   "id": "a0afa9f3",
   "metadata": {},
   "source": [
    "- Use the `continue` keyword to shortcut a loop and start again."
   ]
  },
  {
   "cell_type": "code",
   "execution_count": 22,
   "id": "3d13b79c",
   "metadata": {},
   "outputs": [
    {
     "name": "stdout",
     "output_type": "stream",
     "text": [
      "5\n",
      "7\n",
      "9\n"
     ]
    }
   ],
   "source": [
    "# displaying only odd numbers\n",
    "\n",
    "for x in range(5,10):\n",
    "    if x % 2 == 0:\n",
    "        continue\n",
    "    print(x)"
   ]
  },
  {
   "attachments": {},
   "cell_type": "markdown",
   "id": "4ed9c3d5",
   "metadata": {},
   "source": [
    "- Use `enumerate()` to get the index."
   ]
  },
  {
   "cell_type": "code",
   "execution_count": 27,
   "id": "bc094bc7",
   "metadata": {},
   "outputs": [
    {
     "name": "stdout",
     "output_type": "stream",
     "text": [
      "0\n",
      "Sun\n",
      "\n",
      "1\n",
      "Mon\n",
      "\n",
      "2\n",
      "Tue\n",
      "\n",
      "3\n",
      "Wed\n",
      "\n",
      "4\n",
      "Thur\n",
      "\n",
      "5\n",
      "Fri\n",
      "\n",
      "6\n",
      "Sat\n",
      "\n"
     ]
    }
   ],
   "source": [
    "week = [\"Sun\", \"Mon\", \"Tue\", \"Wed\", \"Thur\", \"Fri\", \"Sat\"]\n",
    "for i, d in enumerate(week):\n",
    "    print(i)\n",
    "    print(d)\n",
    "    print()"
   ]
  },
  {
   "cell_type": "code",
   "execution_count": 24,
   "id": "cb7193d1",
   "metadata": {},
   "outputs": [
    {
     "name": "stdout",
     "output_type": "stream",
     "text": [
      "(0, 'Sun')\n",
      "(1, 'Mon')\n",
      "(2, 'Tue')\n",
      "(3, 'Wed')\n",
      "(4, 'Thur')\n",
      "(5, 'Fri')\n",
      "(6, 'Sat')\n"
     ]
    }
   ],
   "source": [
    "for i in enumerate(week):\n",
    "    print(i)"
   ]
  },
  {
   "attachments": {},
   "cell_type": "markdown",
   "id": "8b4d6361",
   "metadata": {},
   "source": [
    "## While loops"
   ]
  },
  {
   "cell_type": "code",
   "execution_count": 28,
   "id": "053eb644",
   "metadata": {},
   "outputs": [
    {
     "name": "stdout",
     "output_type": "stream",
     "text": [
      "0\n",
      "1\n",
      "2\n",
      "3\n",
      "4\n"
     ]
    }
   ],
   "source": [
    "a = 0\n",
    "while a < 5:\n",
    "    print(a)\n",
    "    a += 1"
   ]
  },
  {
   "attachments": {},
   "cell_type": "markdown",
   "id": "1d94ca87",
   "metadata": {},
   "source": [
    "- Looping indefinitely until a certain parameter is met."
   ]
  },
  {
   "cell_type": "code",
   "execution_count": 29,
   "id": "56350372",
   "metadata": {},
   "outputs": [
    {
     "name": "stdout",
     "output_type": "stream",
     "text": [
      "1\n",
      "2\n",
      "3\n",
      "4\n",
      "5\n"
     ]
    }
   ],
   "source": [
    "a = 0\n",
    "b = True\n",
    "\n",
    "while(b):\n",
    "    a += 1\n",
    "    print(a)\n",
    "    if a == 5:\n",
    "        b = False"
   ]
  },
  {
   "attachments": {},
   "cell_type": "markdown",
   "id": "f8052766",
   "metadata": {},
   "source": [
    "- You can use `break` and `continue` to the same effect."
   ]
  }
 ],
 "metadata": {
  "kernelspec": {
   "display_name": "Python 3 (ipykernel)",
   "language": "python",
   "name": "python3"
  },
  "language_info": {
   "codemirror_mode": {
    "name": "ipython",
    "version": 3
   },
   "file_extension": ".py",
   "mimetype": "text/x-python",
   "name": "python",
   "nbconvert_exporter": "python",
   "pygments_lexer": "ipython3",
   "version": "3.10.6"
  }
 },
 "nbformat": 4,
 "nbformat_minor": 5
}
